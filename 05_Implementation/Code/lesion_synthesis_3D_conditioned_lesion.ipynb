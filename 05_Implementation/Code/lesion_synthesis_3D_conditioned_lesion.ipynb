{
 "cells": [
  {
   "cell_type": "markdown",
   "id": "35dde7cf-3f85-440a-b7a9-2d9c4e8f1939",
   "metadata": {},
   "source": [
    "### Introduction\n",
    "In this jupyter notebook we're synthesizing (adding) MS lesions. We're training a unet model with pseudo3D resnet blocks, which conditions on a binary mask and the voided image. For training it uses binary lesions masks annotated by doctors."
   ]
  },
  {
   "cell_type": "markdown",
   "id": "517f8973-ce60-45ee-976a-6d75251596d6",
   "metadata": {},
   "source": [
    "### Configuration"
   ]
  },
  {
   "cell_type": "code",
   "execution_count": 1,
   "id": "a77b51cd-dfaa-44b4-b1f6-a36e07016f08",
   "metadata": {},
   "outputs": [],
   "source": [
    "from dataclasses import dataclass\n",
    "\n",
    "@dataclass\n",
    "class Config: \n",
    "    mode = \"eval\" # ['train', 'eval']\n",
    "    debug = True\n",
    "    output_dir = \"lesion-synthesis-3D-cond-lesion\"\n",
    "\n",
    "    #dataset config\n",
    "    dataset_train_path = \"./datasets/synthesis/dataset_train/imgs\"\n",
    "    segm_train_path = \"./datasets/synthesis/dataset_train/segm\"\n",
    "    masks_train_path = \"./datasets/synthesis/dataset_train/masks\"\n",
    "    dataset_eval_path = \"./datasets/synthesis/dataset_eval/imgs\"\n",
    "    segm_eval_path = \"./datasets/synthesis/dataset_eval/segm\"\n",
    "    masks_eval_path = \"./datasets/synthesis/dataset_eval/masks\" \n",
    "    target_shape = None # During preprocessing the img gets transformered to this shape (computationally expensive) \n",
    "    unet_img_shape = (160,256) # This defines the input layer of the model\n",
    "    channels = 3 # The number of input channels: 1 for grayscale img, 1 for img_voided, 1 for mask\n",
    "    restrict_train_slices = \"mask\" # Defines which 2D slices are used from the 3D MRI ['mask', 'segm', or 'unrestricted']\n",
    "    restrict_eval_slices = \"mask\" # Defines which 2D slices are used from the 3D MRI ['mask', 'segm', or 'unrestricted']\n",
    "    restrict_mask_to_wm = False # Restricts lesion masks to white matter based on segmentation\n",
    "    proportion_training_circular_masks = 0 # Defines if random circular masks should be used instead of the provided lesion masks. \n",
    "                                           # 1 is 100% random circular masks and 0 is 100% lesion masks.\n",
    "    #uniform_center_circular_masks = False # the center of the circular mask is uniform within a batch\n",
    "    train_connected_masks = True # The distribution of the masks is extended by splitting the masks into several smaller connected components.  \n",
    "    brightness_augmentation = True\t# The training data gets augmented with randomly applied ColorJitter.\n",
    "    num_dataloader_workers = 8 # how many subprocesses to use for data loading\n",
    "\n",
    "    # train config \n",
    "    num_epochs = 2000\n",
    "    sorted_slice_sample_size = 1 # The number of sorted slices within one sample. Defaults to 1.\n",
    "                                 # This is needed for the pseudo3Dmodels, where the model expects that the slices within one batch\n",
    "                                 # are next to each other in the 3D volume.\n",
    "    train_batch_size = 1\n",
    "    effective_train_batch_size = 32 # The train_batch_size gets recalculated to this batch size based on accumulation_steps and number of GPU's.\n",
    "\t                              # For pseudo3D models the sorted_slice_sample_size gets calculcated to this batch size. \n",
    "                                  # The train_batch_size and eval_batch_size should be 1.\n",
    "    eval_batch_size = 1 \n",
    "    learning_rate = 1e-4\n",
    "    lr_warmup_steps = 100\n",
    "    use_min_snr_loss = False\n",
    "    snr_gamma = 5\n",
    "    gradient_accumulation_steps = 1\n",
    "    mixed_precision = \"fp16\" # `no` for float32, `fp16` for automatic mixed precision \n",
    "\n",
    "    # evaluation config\n",
    "    num_inference_steps = 50\n",
    "    evaluate_2D_epochs = 50 # The interval at which to evaluate the model on 2D images. \n",
    "    evaluate_3D_epochs = 1000 # The interval at which to evaluate the model on 3D images. \n",
    "    evaluate_num_batches = 30 # Number of batches used for evaluation. -1 means all batches. \n",
    "    evaluate_num_batches_3d = -1 # Number of batches used for evaluation. -1 means all batches. \n",
    "    evaluate_unconditional_img = False # Used for unconditional models to generate some samples without the repaint pipeline. \n",
    "    deactivate_2D_evaluation = False\n",
    "    deactivate_3D_evaluation = True\n",
    "    img3D_filename = \"Flair\" # Filename to save the processed 3D images \n",
    "    eval_loss_timesteps = [20,140,260,380,560,680,800,920] # List of timesteps to evalute validation loss.\n",
    "    eval_mask_dilation = 0 # dilation value for masks\n",
    "    #add_lesion_technique = \"other_lesions_99Quantile\" # Used for synthesis only. \n",
    "                                                      # ['empty', 'mean_intensity', 'other_lesions_1stQuantile', 'other_lesions_mean', \n",
    "                                                      # 'other_lesions_median', 'other_lesions_3rdQuantile', 'other_lesions_99Quantile'] \n",
    "    #intermediate_timestep = 3 # Used for synthesis only. Diffusion process starts from this timesteps. \n",
    "                               # Num_inference_steps means the whole pipeline and 1 the last step. \n",
    "    #jump_length = 8 # Used for unconditional lesion filling only. Defines the jump_length from the repaint paper.\n",
    "    #jump_n_sample = 10 # Used for unconditional lesion filling only. Defines the jump_n_sample from the repaint paper.\n",
    "    log_csv = False # saves evaluation metrics as csv \n",
    "    seed = 0 # used for dataloader sampling and generation of the initial noise to start the diffusion process\n",
    "config = Config()"
   ]
  },
  {
   "cell_type": "code",
   "execution_count": 2,
   "id": "37e2ffca-7e8c-43d4-8e13-ba1900e38eab",
   "metadata": {},
   "outputs": [
    {
     "data": {
      "text/plain": [
       "PosixPath('/home/jovyan/.cache/huggingface/accelerate/default_config.yaml')"
      ]
     },
     "execution_count": 2,
     "metadata": {},
     "output_type": "execute_result"
    }
   ],
   "source": [
    "import torch\n",
    "import numpy as np\n",
    "import accelerate\n",
    "accelerate.commands.config.default.write_basic_config(config.mixed_precision)\n",
    "#if there are problems with ports then add manually \"main_process_port: 0\" or another number to yaml file"
   ]
  },
  {
   "cell_type": "code",
   "execution_count": 3,
   "id": "0d98a516-6f3c-4d6e-8df8-2597ef20846f",
   "metadata": {},
   "outputs": [],
   "source": [
    "from pathlib import Path\n",
    "import json\n",
    "with open(Path.home() / \".cache/huggingface/accelerate/default_config.yaml\") as f:\n",
    "    data = json.load(f)\n",
    "    config.num_processes = data[\"num_processes\"]"
   ]
  },
  {
   "cell_type": "code",
   "execution_count": 4,
   "id": "6e4e3e6f-f59e-4844-a908-b21feae83211",
   "metadata": {},
   "outputs": [],
   "source": [
    "config.sorted_slice_sample_size = int((config.effective_train_batch_size / config.gradient_accumulation_steps) / config.num_processes)"
   ]
  },
  {
   "cell_type": "code",
   "execution_count": 5,
   "id": "f37af310-fb03-4445-a931-bc7e4f359ed2",
   "metadata": {},
   "outputs": [],
   "source": [
    "if config.debug:\n",
    "    config.sorted_slice_sample_size = 2\n",
    "    config.num_inference_steps=1\n",
    "    config.train_batch_size = 1\n",
    "    config.eval_batch_size = 1 \n",
    "    config.eval_loss_timesteps = [20]\n",
    "    config.train_connected_masks=False\n",
    "    config.eval_connected_masks=False\n",
    "    config.evaluate_num_batches=1\n",
    "    config.dataset_train_path = \"./datasets/synthesis/dataset_eval/imgs\"\n",
    "    config.segm_train_path = \"./datasets/synthesis/dataset_eval/segm\"\n",
    "    config.masks_train_path = \"./datasets/synthesis/dataset_eval/masks\"\n",
    "    config.num_dataloader_workers = 1"
   ]
  },
  {
   "cell_type": "code",
   "execution_count": 6,
   "id": "53f849e8-b970-435d-aa9e-a6b04c061f64",
   "metadata": {},
   "outputs": [
    {
     "name": "stdout",
     "output_type": "stream",
     "text": [
      "Start training with batch size 2, 1 accumulation steps and 1 process(es)\n"
     ]
    }
   ],
   "source": [
    "print(f\"Start training with batch size {config.sorted_slice_sample_size}, {config.gradient_accumulation_steps} accumulation steps and {config.num_processes} process(es)\")"
   ]
  },
  {
   "cell_type": "markdown",
   "id": "b000bb14-0648-41f9-981b-b03d42cef696",
   "metadata": {},
   "source": [
    "### Datasets"
   ]
  },
  {
   "cell_type": "code",
   "execution_count": 7,
   "id": "4d2b7df9-0219-4c4e-99f2-08c9b1fc2f36",
   "metadata": {},
   "outputs": [
    {
     "name": "stderr",
     "output_type": "stream",
     "text": [
      "2024-07-25 09:30:26.976356: I tensorflow/tsl/cuda/cudart_stub.cc:28] Could not find cuda drivers on your machine, GPU will not be used.\n",
      "2024-07-25 09:30:29.057845: E tensorflow/compiler/xla/stream_executor/cuda/cuda_dnn.cc:9342] Unable to register cuDNN factory: Attempting to register factory for plugin cuDNN when one has already been registered\n",
      "2024-07-25 09:30:29.057900: E tensorflow/compiler/xla/stream_executor/cuda/cuda_fft.cc:609] Unable to register cuFFT factory: Attempting to register factory for plugin cuFFT when one has already been registered\n",
      "2024-07-25 09:30:29.065731: E tensorflow/compiler/xla/stream_executor/cuda/cuda_blas.cc:1518] Unable to register cuBLAS factory: Attempting to register factory for plugin cuBLAS when one has already been registered\n",
      "2024-07-25 09:30:30.045018: I tensorflow/tsl/cuda/cudart_stub.cc:28] Could not find cuda drivers on your machine, GPU will not be used.\n",
      "2024-07-25 09:30:30.051172: I tensorflow/core/platform/cpu_feature_guard.cc:182] This TensorFlow binary is optimized to use available CPU instructions in performance-critical operations.\n",
      "To enable the following instructions: AVX2 FMA, in other operations, rebuild TensorFlow with the appropriate compiler flags.\n",
      "2024-07-25 09:30:38.135866: W tensorflow/compiler/tf2tensorrt/utils/py_utils.cc:38] TF-TRT Warning: Could not find TensorRT\n"
     ]
    },
    {
     "data": {
      "application/vnd.jupyter.widget-view+json": {
       "model_id": "feaf1e3c2fd149e8a9fece81b5896aae",
       "version_major": 2,
       "version_minor": 0
      },
      "text/plain": [
       "  0%|          | 0/2 [00:00<?, ?it/s]"
      ]
     },
     "metadata": {},
     "output_type": "display_data"
    },
    {
     "data": {
      "application/vnd.jupyter.widget-view+json": {
       "model_id": "8302e7495aad42ba92008f1077dd0598",
       "version_major": 2,
       "version_minor": 0
      },
      "text/plain": [
       "  0%|          | 0/2 [00:00<?, ?it/s]"
      ]
     },
     "metadata": {},
     "output_type": "display_data"
    },
    {
     "data": {
      "application/vnd.jupyter.widget-view+json": {
       "model_id": "eec3b5a685974969a99888726611e28d",
       "version_major": 2,
       "version_minor": 0
      },
      "text/plain": [
       "  0%|          | 0/2 [00:00<?, ?it/s]"
      ]
     },
     "metadata": {},
     "output_type": "display_data"
    }
   ],
   "source": [
    "from custom_modules import DatasetMRI2D, DatasetMRI3D, ScaleDecorator\n",
    "from pathlib import Path\n",
    "from torchvision import transforms \n",
    " \n",
    "transformations = None\n",
    "if config.brightness_augmentation:\n",
    "    transformations = transforms.RandomApply([ScaleDecorator(transforms.ColorJitter(brightness=1))], p=0.5)\n",
    "\n",
    "dataset_train = DatasetMRI2D(\n",
    "    root_dir_img=Path(config.dataset_train_path), \n",
    "    root_dir_masks=Path(config.masks_train_path), \n",
    "    restriction=config.restrict_train_slices,\n",
    "    proportion_training_circular_masks=config.proportion_training_circular_masks,\n",
    "    connected_masks=config.train_connected_masks, \n",
    "    restrict_mask_to_wm=config.restrict_mask_to_wm, \n",
    "    transforms=transformations,\n",
    "    sorted_slice_sample_size=config.sorted_slice_sample_size, \n",
    "    target_shape=config.target_shape, \n",
    ")\n",
    "dataset_evaluation = DatasetMRI2D(\n",
    "    root_dir_img=Path(config.dataset_eval_path), \n",
    "    root_dir_masks=Path(config.masks_eval_path), \n",
    "    restriction=config.restrict_eval_slices, \n",
    "    dilation=config.eval_mask_dilation,\n",
    "    sorted_slice_sample_size=config.sorted_slice_sample_size, \n",
    "    target_shape=config.target_shape,\n",
    ")\n",
    "dataset_3D_evaluation = DatasetMRI3D(\n",
    "    root_dir_img=Path(config.dataset_eval_path), \n",
    "    root_dir_masks=Path(config.masks_eval_path), \n",
    "    dilation=config.eval_mask_dilation,\n",
    "    target_shape=config.target_shape, \n",
    ")"
   ]
  },
  {
   "cell_type": "markdown",
   "id": "b0692795-03f1-48b8-a9d0-4fc9e04bdaab",
   "metadata": {},
   "source": [
    "### Training environement"
   ]
  },
  {
   "cell_type": "code",
   "execution_count": 8,
   "id": "7509adcf-a0b1-4652-a5ca-b398b008dd20",
   "metadata": {},
   "outputs": [],
   "source": [
    "from custom_modules import UNet2DModel\n",
    "\n",
    "model = UNet2DModel(\n",
    "    sample_size=config.unet_img_shape,   \n",
    "    in_channels=config.channels,  \n",
    "    out_channels=1,  \n",
    "    layers_per_block=2,  # how many ResNet layers to use per UNet block\n",
    "    block_out_channels=(128, 128, 256, 256, 512, 512),  # the number of output channels for each UNet block\n",
    "    down_block_types=(\n",
    "        \"Pseudo3DDownBlock2D\",   \n",
    "        \"Pseudo3DDownBlock2D\",\n",
    "        \"Pseudo3DDownBlock2D\",\n",
    "        \"Pseudo3DDownBlock2D\",\n",
    "        \"Pseudo3DAttnDownBlock2D\",   \n",
    "        \"Pseudo3DAttnDownBlock2D\",\n",
    "    ),\n",
    "    up_block_types=(\n",
    "        \"Pseudo3DAttnUpBlock2D\",   \n",
    "        \"Pseudo3DAttnUpBlock2D\",  \n",
    "        \"Pseudo3DUpBlock2D\",\n",
    "        \"Pseudo3DUpBlock2D\",\n",
    "        \"Pseudo3DUpBlock2D\",\n",
    "        \"Pseudo3DUpBlock2D\",\n",
    "    ),\n",
    ")\n",
    "\n",
    "config.model = \"BigPseudo3DUNet2DModel\""
   ]
  },
  {
   "cell_type": "code",
   "execution_count": 9,
   "id": "c05f67f7-b932-4f73-bdb3-96751ef6c863",
   "metadata": {},
   "outputs": [],
   "source": [
    "import torch\n",
    "from PIL import Image\n",
    "from diffusers import DDIMScheduler\n",
    "\n",
    "#setup noise scheduler\n",
    "noise_scheduler = DDIMScheduler(num_train_timesteps=1000)\n",
    "config.noise_scheduler = \"DDIMScheduler(num_train_timesteps=1000)\""
   ]
  },
  {
   "cell_type": "code",
   "execution_count": 10,
   "id": "5171c3aa-3a69-4dfa-bbb2-d3c8086fb1ef",
   "metadata": {},
   "outputs": [],
   "source": [
    "from diffusers.optimization import get_cosine_schedule_with_warmup\n",
    "import math\n",
    "\n",
    "# setup lr scheduler\n",
    "optimizer = torch.optim.AdamW(model.parameters(), lr=config.learning_rate)\n",
    "lr_scheduler = get_cosine_schedule_with_warmup(\n",
    "    optimizer=optimizer,\n",
    "    num_warmup_steps=config.lr_warmup_steps,\n",
    "    num_training_steps=(math.ceil(len(dataset_train)/config.train_batch_size) * config.num_epochs), \n",
    ")\n",
    "\n",
    "config.lr_scheduler = \"cosine_schedule_with_warmup\""
   ]
  },
  {
   "cell_type": "code",
   "execution_count": 11,
   "id": "2148b689-ecaa-411f-95ec-e35f0268bae1",
   "metadata": {},
   "outputs": [],
   "source": [
    "from accelerate import Accelerator \n",
    "\n",
    "# setup accelerator for distributed training\n",
    "accelerator = Accelerator(\n",
    "    mixed_precision=config.mixed_precision,\n",
    "    gradient_accumulation_steps=config.gradient_accumulation_steps,  \n",
    ")"
   ]
  },
  {
   "cell_type": "code",
   "execution_count": 12,
   "id": "019ffd81-5b6b-4241-a0f5-678aec9ba4ce",
   "metadata": {},
   "outputs": [],
   "source": [
    "from torch.utils.tensorboard import SummaryWriter\n",
    "import os\n",
    "from custom_modules import Logger\n",
    "\n",
    "if accelerator.is_main_process:\n",
    "    if config.output_dir is not None:\n",
    "        os.makedirs(config.output_dir, exist_ok=True) \n",
    "    #setup tensorboard\n",
    "    tb_summary = SummaryWriter(config.output_dir, purge_step=0)\n",
    "    accelerator.init_trackers(\"train_example\") #maybe delete\n",
    "    logger = Logger(tb_summary, config.log_csv)\n",
    "    logger.log_config(config)"
   ]
  },
  {
   "cell_type": "code",
   "execution_count": 13,
   "id": "b09ae86a-9c57-471b-9f6e-bb81e21648f5",
   "metadata": {},
   "outputs": [],
   "source": [
    "from custom_modules import get_dataloader\n",
    "\n",
    "train_dataloader = get_dataloader(\n",
    "    dataset=dataset_train, \n",
    "    batch_size=config.train_batch_size, \n",
    "    num_workers=config.num_dataloader_workers, \n",
    "    random_sampler=True, \n",
    "    seed=config.seed, \n",
    "    multi_slice=config.sorted_slice_sample_size > 1\n",
    ")\n",
    "d2_eval_dataloader = get_dataloader(\n",
    "    dataset=dataset_evaluation, \n",
    "    batch_size=config.eval_batch_size, \n",
    "    num_workers=config.num_dataloader_workers, \n",
    "    random_sampler=False, \n",
    "    seed=config.seed,\n",
    "    multi_slice=config.sorted_slice_sample_size > 1\n",
    ")\n",
    "d3_eval_dataloader = get_dataloader(\n",
    "    dataset=dataset_3D_evaluation, \n",
    "    batch_size=1, \n",
    "    num_workers=config.num_dataloader_workers,\n",
    "    random_sampler=False, \n",
    "    seed=config.seed, \n",
    "    multi_slice=False\n",
    ") "
   ]
  },
  {
   "cell_type": "code",
   "execution_count": 14,
   "id": "37526a67-f53f-40cb-b5f5-6de42d7419a3",
   "metadata": {},
   "outputs": [],
   "source": [
    "model, optimizer, train_dataloader, d2_eval_dataloader, d3_eval_dataloader, lr_scheduler = accelerator.prepare(\n",
    "    model, optimizer, train_dataloader, d2_eval_dataloader, d3_eval_dataloader, lr_scheduler\n",
    ")"
   ]
  },
  {
   "cell_type": "code",
   "execution_count": null,
   "id": "77fca26f-7a48-49bb-80d8-eedd84354fa7",
   "metadata": {},
   "outputs": [
    {
     "name": "stderr",
     "output_type": "stream",
     "text": [
      "Downloading: \"https://download.pytorch.org/models/alexnet-owt-7be5be79.pth\" to /home/jovyan/.cache/torch/hub/checkpoints/alexnet-owt-7be5be79.pth\n",
      " 61%|████████████████████████████████████████████████▉                               | 142M/233M [01:36<00:53, 1.78MB/s]"
     ]
    }
   ],
   "source": [
    "from custom_modules import ModelInputGenerator, Evaluation2DFilling, Evaluation3DFilling\n",
    "\n",
    "model_input_generator = ModelInputGenerator(conditional=True, noise_scheduler=noise_scheduler)\n",
    " \n",
    "args = {\n",
    "    \"eval_dataloader\": d2_eval_dataloader, \n",
    "    \"train_dataloader\": train_dataloader,\n",
    "    \"logger\": None if not accelerator.is_main_process else logger, \n",
    "    \"accelerator\": accelerator,\n",
    "    \"num_inference_steps\": config.num_inference_steps,\n",
    "    \"model_input_generator\": model_input_generator,\n",
    "    \"output_dir\": config.output_dir,\n",
    "    \"eval_loss_timesteps\": config.eval_loss_timesteps, \n",
    "    \"evaluate_num_batches\": config.evaluate_num_batches, \n",
    "    \"seed\": config.seed\n",
    "}\n",
    "evaluation2D = Evaluation2DFilling(**args)\n",
    "args = {\n",
    "    \"dataloader\": d3_eval_dataloader, \n",
    "    \"logger\": None if not accelerator.is_main_process else logger, \n",
    "    \"accelerator\": accelerator,\n",
    "    \"output_dir\": config.output_dir,\n",
    "    \"filename\": config.img3D_filename,\n",
    "    \"num_inference_steps\": config.num_inference_steps,\n",
    "    \"eval_batch_size\": config.eval_batch_size,\n",
    "    \"sorted_slice_sample_size\": config.sorted_slice_sample_size,\n",
    "    \"evaluate_num_batches\": config.evaluate_num_batches_3d,\n",
    "    \"seed\": config.seed,\n",
    "}\n",
    "evaluation3D = Evaluation3DFilling(**args)"
   ]
  },
  {
   "cell_type": "markdown",
   "id": "b3246d2c-02b8-4842-8958-473209967dc0",
   "metadata": {},
   "source": [
    "### Start training"
   ]
  },
  {
   "cell_type": "code",
   "execution_count": null,
   "id": "9cff9863-09e9-4951-a6d3-323cd9a15a93",
   "metadata": {},
   "outputs": [],
   "source": [
    "from custom_modules import Training, DDIMInpaintPipeline, Evaluation2DFilling, Evaluation3DFilling\n",
    "from custom_modules import PipelineFactories \n",
    "\n",
    "args = { \n",
    "    \"accelerator\": accelerator,\n",
    "    \"model\": model, \n",
    "    \"noise_scheduler\": noise_scheduler, \n",
    "    \"optimizer\": optimizer, \n",
    "    \"lr_scheduler\": lr_scheduler, \n",
    "    \"train_dataloader\": train_dataloader, \n",
    "    \"d2_eval_dataloader\": d2_eval_dataloader, \n",
    "    \"d3_eval_dataloader\": d3_eval_dataloader, \n",
    "    \"model_input_generator\": model_input_generator,\n",
    "    \"evaluation2D\": evaluation2D,\n",
    "    \"evaluation3D\": evaluation3D,\n",
    "    \"logger\": None if not accelerator.is_main_process else logger,\n",
    "    \"pipeline_factory\": PipelineFactories.get_ddim_inpaint_pipeline,\n",
    "    \"num_epochs\": config.num_epochs, \n",
    "    \"evaluate_2D_epochs\": config.evaluate_2D_epochs,\n",
    "    \"evaluate_3D_epochs\": config.evaluate_3D_epochs,\n",
    "    \"min_snr_loss\": config.use_min_snr_loss,\n",
    "    \"snr_gamma\": config.snr_gamma,\n",
    "    \"evaluate_unconditional_img\": config.evaluate_unconditional_img,\n",
    "    \"deactivate_2D_evaluation\": config.deactivate_2D_evaluation, \n",
    "    \"deactivate_3D_evaluation\": config.deactivate_3D_evaluation, \n",
    "    \"evaluation_pipeline_parameters\": {},\n",
    "    \"debug\": config.debug, \n",
    "    }\n",
    "trainingSynthesis = Training(**args)"
   ]
  },
  {
   "cell_type": "code",
   "execution_count": null,
   "id": "dba08bca-fc1f-431d-85ba-733f2a6f73ba",
   "metadata": {},
   "outputs": [],
   "source": [
    "if config.mode == \"train\":\n",
    "    trainingSynthesis.train()"
   ]
  },
  {
   "cell_type": "code",
   "execution_count": null,
   "id": "c9f04c0c-2be6-4683-aae7-0bde77668354",
   "metadata": {},
   "outputs": [],
   "source": [
    "if config.mode == \"eval\":\n",
    "    trainingSynthesis.deactivate_3D_evaluation = False\n",
    "    pipeline = DDIMInpaintPipeline.from_pretrained(config.output_dir) \n",
    "    trainingSynthesis.evaluate(pipeline, deactivate_save_model=True)"
   ]
  },
  {
   "cell_type": "code",
   "execution_count": null,
   "id": "5cb078b6-b217-4be3-b84f-3582af76de42",
   "metadata": {},
   "outputs": [],
   "source": [
    "import os\n",
    "import csv\n",
    "from itertools import product\n",
    "import matplotlib.pyplot as plt\n",
    "\n",
    "if config.mode == \"tuning_parameters\":\n",
    "    trainingSynthesis.deactivate_3D_evaluation = False\n",
    "    pipeline = GuidedPipelineConditional.from_pretrained(config.output_dir)\n",
    "    original_output_dir = config.output_dir \n",
    "    timesteps = [1, 3, 5]\n",
    "    resample_step = [1, 3, 5]\n",
    "    parameters = product(timesteps, resample_step) \n",
    "    \n",
    "    for timestep, resample_step in parameters:\n",
    "        print(\"Begin evaluation for timestep \", timestep, \" and resample step \", resample_step)\n",
    "        trainingSynthesis.intermediate_timestep = timestep\n",
    "        trainingSynthesis.jump_length = timestep\n",
    "        trainingSynthesis.jump_n_sample = resample_step\n",
    "        trainingSynthesis.output_dir = original_output_dir + \"/tuning_parameters/timestep_\" + str(timestep) + \"_resample_\" + str(resample_step)\n",
    "        if trainingSynthesis.accelerator.is_main_process:\n",
    "            os.makedirs(config.output_dir, exist_ok=True)\n",
    "            trainingSynthesis.log_meta_logs()\n",
    "        trainingSynthesis.evaluate(pipeline, deactivate_save_model=True) \n",
    "\n",
    "    # plot lpips score vs  \n",
    "    folder_list = list(Path().glob(original_output_dir + \"/tuning_parameters/timestep_*\"))\n",
    "    lpips = []\n",
    "    labels = [] \n",
    "    for folder in folder_list:\n",
    "        timestep = str(folder).split(\"_\")[-3] \n",
    "        resample_step = str(folder).split(\"_\")[-1]\n",
    "        with open(folder / \"metrics.csv\", 'r') as fp: \n",
    "            _ = fp.readline()\n",
    "            csv_metrics = fp.readline()\n",
    "            reader = csv_metrics.split(',') \n",
    "            for metric in reader:\n",
    "                if metric != \"\":\n",
    "                    name, value = metric.split(':')\n",
    "                    if name == \"lpips\":\n",
    "                        lpips.append(float(value))\n",
    "                        labels.append(timestep + \"_\" + resample_step) \n",
    "    plt.clf()\n",
    "    plt.bar(labels, lpips) \n",
    "    plt.savefig(original_output_dir + '/lpips_parameters.png')"
   ]
  },
  {
   "cell_type": "code",
   "execution_count": null,
   "id": "1a57c0c6-43be-4c06-90bc-3e50b56a8701",
   "metadata": {},
   "outputs": [],
   "source": [
    "print(\"Finished Training\")"
   ]
  },
  {
   "cell_type": "markdown",
   "id": "89bf7f30-2b17-4f2f-9e99-7171746ba198",
   "metadata": {},
   "source": [
    "### Save jupyter notebook as python script for hpc"
   ]
  },
  {
   "cell_type": "code",
   "execution_count": null,
   "id": "ac5f84b2-2b04-4fab-89d6-15d21f316e2f",
   "metadata": {},
   "outputs": [],
   "source": []
  },
  {
   "cell_type": "code",
   "execution_count": null,
   "id": "d95fb612-dede-46d9-abd1-ed1cc23b01f6",
   "metadata": {},
   "outputs": [],
   "source": [
    "!jupyter nbconvert --to script \"lesion_synthesis_3D_conditioned_lesion.ipynb\"\n",
    "filename=\"lesion_synthesis_3D_conditioned_lesion.py\"\n",
    "\n",
    "# delete this cell from python file\n",
    "lines = []\n",
    "with open(filename, 'r') as fp:\n",
    "    lines = fp.readlines()\n",
    "with open(filename, 'w') as fp:\n",
    "    for number, line in enumerate(lines):\n",
    "        if number < len(lines)-18: \n",
    "            fp.write(line) "
   ]
  }
 ],
 "metadata": {
  "kernelspec": {
   "display_name": "Python 3 (ipykernel)",
   "language": "python",
   "name": "python3"
  },
  "language_info": {
   "codemirror_mode": {
    "name": "ipython",
    "version": 3
   },
   "file_extension": ".py",
   "mimetype": "text/x-python",
   "name": "python",
   "nbconvert_exporter": "python",
   "pygments_lexer": "ipython3",
   "version": "3.11.6"
  }
 },
 "nbformat": 4,
 "nbformat_minor": 5
}
